{
 "cells": [
  {
   "cell_type": "markdown",
   "id": "b7682cbc",
   "metadata": {},
   "source": [
    "# Branching using Conditional Statements and Loops in Python\n",
    "\n",
    "![](https://i.imgur.com/7RfcHV0.png)"
   ]
  },
  {
   "cell_type": "markdown",
   "id": "adbec850",
   "metadata": {},
   "source": [
    "- Branching with `if`, `else` and `elif`\n",
    "- Nested conditions and `if` expressions\n",
    "- Iteration with `while` loops\n",
    "- Iterating over containers with `for` loops\n",
    "- Nested loops, `break` and `continue` statements"
   ]
  },
  {
   "cell_type": "markdown",
   "id": "2ce90980",
   "metadata": {},
   "source": [
    "## Branching with `if`, `else` and `elif`\n",
    "\n",
    "One of the most powerful features of programming languages is *branching*: the ability to make decisions and execute a different set of statements based on whether one or more conditions are true.\n",
    "\n",
    "### The `if` statement\n",
    "\n",
    "In Python, branching is implemented using the `if` statement, which is written as follows:\n",
    "\n",
    "```\n",
    "if condition:\n",
    "    statement1\n",
    "    statement2\n",
    "```\n",
    "\n",
    "The `condition` can be a value, variable or expression. If the condition evaluates to `True`, then the statements within the *`if` block* are executed. Notice the four spaces before `statement1`, `statement2`, etc. The spaces inform Python that these statements are associated with the `if` statement above. This technique of structuring code by adding spaces is called *indentation*.\n",
    "\n",
    "> **Indentation**: Python relies heavily on *indentation* (white space before a statement) to define code structure. This makes Python code easy to read and understand. You can run into problems if you don't use indentation properly. Indent your code by placing the cursor at the start of the line and pressing the `Tab` key once to add 4 spaces. Pressing `Tab` again will indent the code further by 4 more spaces, and press `Shift+Tab` will reduce the indentation by 4 spaces. "
   ]
  },
  {
   "cell_type": "markdown",
   "id": "011e7743",
   "metadata": {},
   "source": [
    "### The `else` statement\n",
    "\n",
    "We may want to print a different message if the number is not even in the above example. This can be done by adding the `else` statement. It is written as follows:\n",
    "\n",
    "```\n",
    "if condition:\n",
    "    statement1\n",
    "    statement2\n",
    "else:\n",
    "    statement4\n",
    "    statement5\n",
    "\n",
    "```\n",
    "\n",
    "If `condition` evaluates to `True`, the statements in the `if` block are executed. If it evaluates to `False`, the statements in the `else` block are executed."
   ]
  },
  {
   "cell_type": "code",
   "execution_count": 1,
   "id": "484c98f4",
   "metadata": {},
   "outputs": [],
   "source": [
    "a_number = 34"
   ]
  },
  {
   "cell_type": "code",
   "execution_count": 2,
   "id": "8543bda3",
   "metadata": {},
   "outputs": [
    {
     "name": "stdout",
     "output_type": "stream",
     "text": [
      "The given number 34 is even.\n"
     ]
    }
   ],
   "source": [
    "if a_number % 2 == 0:\n",
    "    print('The given number {} is even.'.format(a_number))\n",
    "else:\n",
    "    print('The given number {} is odd.'.format(a_number))"
   ]
  },
  {
   "cell_type": "markdown",
   "id": "f9eafafc",
   "metadata": {},
   "source": [
    "### The `elif` statement\n",
    "\n",
    "Python also provides an `elif` statement (short for \"else if\") to chain a series of conditional blocks. The conditions are evaluated one by one. For the first condition that evaluates to `True`, the block of statements below it is executed. The remaining conditions and statements are not evaluated. So, in an `if`, `elif`, `elif`... chain, at most one block of statements is executed, the one corresponding to the first condition that evaluates to `True`. "
   ]
  },
  {
   "cell_type": "code",
   "execution_count": 3,
   "id": "acacdbb6",
   "metadata": {},
   "outputs": [],
   "source": [
    "today = \"Sunday\""
   ]
  },
  {
   "cell_type": "code",
   "execution_count": 5,
   "id": "87e22561",
   "metadata": {},
   "outputs": [
    {
     "name": "stdout",
     "output_type": "stream",
     "text": [
      "Today is the day of the Sun.\n"
     ]
    }
   ],
   "source": [
    "if today == 'Sunday':\n",
    "    print(\"Today is the day of the Sun.\")\n",
    "elif today == 'Monday':\n",
    "    print(\"Today is the day of the Moon.\")\n",
    "elif today == 'Tuesday':\n",
    "    print(\"Today is the day of Tyr, the god of war.\")\n",
    "elif today == 'Wednesday':\n",
    "    print(\"Today is the day of Odin, the supreme diety.\")\n",
    "elif today == 'Thursday':\n",
    "    print(\"Today is the day of Thor, the god of thunder.\")\n",
    "elif today == 'Friday':\n",
    "    print(\"Today is the day of Frigga, the goddess of beauty.\")\n",
    "elif today == 'Saturday':\n",
    "    print(\"Today is the day of Saturn, the god of fun and feasting.\")"
   ]
  },
  {
   "cell_type": "code",
   "execution_count": 6,
   "id": "9311f292",
   "metadata": {},
   "outputs": [],
   "source": [
    "a_number = 15"
   ]
  },
  {
   "cell_type": "code",
   "execution_count": 7,
   "id": "39ee2e29",
   "metadata": {},
   "outputs": [
    {
     "name": "stdout",
     "output_type": "stream",
     "text": [
      "15 is divisible by 3\n"
     ]
    }
   ],
   "source": [
    "if a_number % 2 == 0:\n",
    "    print('{} is divisible by 2'.format(a_number))\n",
    "elif a_number % 3 == 0:\n",
    "    print('{} is divisible by 3'.format(a_number))\n",
    "elif a_number % 5 == 0:\n",
    "    print('{} is divisible by 5'.format(a_number))\n",
    "elif a_number % 7 == 0:\n",
    "    print('{} is divisible by 7'.format(a_number))"
   ]
  },
  {
   "cell_type": "markdown",
   "id": "37047954",
   "metadata": {},
   "source": [
    "Note that the message `15 is divisible by 5` is not printed because the condition `a_number % 5 == 0` isn't evaluated, since the previous condition `a_number % 3 == 0` evaluates to `True`. This is the key difference between using a chain of `if`, `elif`, `elif`... statements vs. a chain of `if` statements, where each condition is evaluated independently."
   ]
  },
  {
   "cell_type": "code",
   "execution_count": 8,
   "id": "738e7f31",
   "metadata": {},
   "outputs": [
    {
     "name": "stdout",
     "output_type": "stream",
     "text": [
      "15 is divisible by 3\n",
      "15 is divisible by 5\n"
     ]
    }
   ],
   "source": [
    "if a_number % 2 == 0:\n",
    "    print('{} is divisible by 2'.format(a_number))\n",
    "if a_number % 3 == 0:\n",
    "    print('{} is divisible by 3'.format(a_number))\n",
    "if a_number % 5 == 0:\n",
    "    print('{} is divisible by 5'.format(a_number))\n",
    "if a_number % 7 == 0:\n",
    "    print('{} is divisible by 7'.format(a_number))"
   ]
  },
  {
   "cell_type": "code",
   "execution_count": null,
   "id": "dfe8d845",
   "metadata": {},
   "outputs": [],
   "source": []
  }
 ],
 "metadata": {
  "kernelspec": {
   "display_name": "Python 3 (ipykernel)",
   "language": "python",
   "name": "python3"
  },
  "language_info": {
   "codemirror_mode": {
    "name": "ipython",
    "version": 3
   },
   "file_extension": ".py",
   "mimetype": "text/x-python",
   "name": "python",
   "nbconvert_exporter": "python",
   "pygments_lexer": "ipython3",
   "version": "3.10.4"
  }
 },
 "nbformat": 4,
 "nbformat_minor": 5
}
