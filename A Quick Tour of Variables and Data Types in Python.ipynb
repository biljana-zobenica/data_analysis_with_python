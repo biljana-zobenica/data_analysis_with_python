{
 "cells": [
  {
   "cell_type": "markdown",
   "id": "8087598c",
   "metadata": {},
   "source": [
    "### Python Data Types"
   ]
  },
  {
   "cell_type": "markdown",
   "id": "65c5a3db",
   "metadata": {},
   "source": [
    "This tutorial covers the following topics:\n",
    "\n",
    "* Storing information using variables\n",
    "* Primitive data types in Python: Integer, Float, Boolean, None and String\n",
    "* Built-in data structures in Python: List, Tuple and Dictionary\n",
    "* Methods and operators supported by built-in data types"
   ]
  },
  {
   "cell_type": "code",
   "execution_count": null,
   "id": "c8a89c25",
   "metadata": {},
   "outputs": [],
   "source": []
  }
 ],
 "metadata": {
  "kernelspec": {
   "display_name": "Python 3 (ipykernel)",
   "language": "python",
   "name": "python3"
  },
  "language_info": {
   "codemirror_mode": {
    "name": "ipython",
    "version": 3
   },
   "file_extension": ".py",
   "mimetype": "text/x-python",
   "name": "python",
   "nbconvert_exporter": "python",
   "pygments_lexer": "ipython3",
   "version": "3.10.4"
  }
 },
 "nbformat": 4,
 "nbformat_minor": 5
}
