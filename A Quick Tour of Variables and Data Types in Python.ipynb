{
 "cells": [
  {
   "cell_type": "markdown",
   "id": "5dc1f1c9",
   "metadata": {},
   "source": [
    "### Python Data Types"
   ]
  },
  {
   "cell_type": "markdown",
   "id": "bc643194",
   "metadata": {},
   "source": [
    "This tutorial covers the following topics:\n",
    "\n",
    "* Storing information using variables\n",
    "* Primitive data types in Python: Integer, Float, Boolean, None and String\n",
    "* Built-in data structures in Python: List, Tuple and Dictionary\n",
    "* Methods and operators supported by built-in data types"
   ]
  },
  {
   "cell_type": "markdown",
   "id": "ac3b2945",
   "metadata": {},
   "source": [
    "### Storing information using variables"
   ]
  },
  {
   "cell_type": "code",
   "execution_count": 3,
   "id": "7a8e9862",
   "metadata": {},
   "outputs": [],
   "source": [
    "my_favorite_color = \"raspberry\""
   ]
  },
  {
   "cell_type": "code",
   "execution_count": 4,
   "id": "18e083c5",
   "metadata": {},
   "outputs": [
    {
     "data": {
      "text/plain": [
       "'raspberry'"
      ]
     },
     "execution_count": 4,
     "metadata": {},
     "output_type": "execute_result"
    }
   ],
   "source": [
    "my_favorite_color"
   ]
  },
  {
   "cell_type": "code",
   "execution_count": 7,
   "id": "fbd3c51f",
   "metadata": {},
   "outputs": [],
   "source": [
    "color_code = '#E30B5C'"
   ]
  },
  {
   "cell_type": "code",
   "execution_count": 8,
   "id": "267b1e41",
   "metadata": {},
   "outputs": [
    {
     "data": {
      "text/plain": [
       "'#E30B5C'"
      ]
     },
     "execution_count": 8,
     "metadata": {},
     "output_type": "execute_result"
    }
   ],
   "source": [
    "color_code"
   ]
  },
  {
   "cell_type": "markdown",
   "id": "58dffdcc",
   "metadata": {},
   "source": [
    "Variable names can be short (a, x, y, etc.) or descriptive ( my_favorite_color, profit_margin, the_3_musketeers, etc.). However, you must follow these rules while naming Python variables:\n",
    "\n",
    "A variable's name must start with a letter or the underscore character _. It cannot begin with a number.\n",
    "A variable name can only contain lowercase (small) or uppercase (capital) letters, digits, or underscores (a-z, A-Z, 0-9, and _).\n",
    "Variable names are case-sensitive, i.e., a_variable, A_Variable, and A_VARIABLE are all different variables."
   ]
  },
  {
   "cell_type": "code",
   "execution_count": 9,
   "id": "75ad85da",
   "metadata": {},
   "outputs": [
    {
     "ename": "SyntaxError",
     "evalue": "invalid syntax (605469086.py, line 1)",
     "output_type": "error",
     "traceback": [
      "\u001b[1;36m  Input \u001b[1;32mIn [9]\u001b[1;36m\u001b[0m\n\u001b[1;33m    a variable = 23\u001b[0m\n\u001b[1;37m      ^\u001b[0m\n\u001b[1;31mSyntaxError\u001b[0m\u001b[1;31m:\u001b[0m invalid syntax\n"
     ]
    }
   ],
   "source": [
    "a variable = 23"
   ]
  },
  {
   "cell_type": "code",
   "execution_count": 14,
   "id": "8ea09a50",
   "metadata": {},
   "outputs": [],
   "source": [
    "a_variable = 23"
   ]
  },
  {
   "cell_type": "code",
   "execution_count": 10,
   "id": "dcf90453",
   "metadata": {},
   "outputs": [
    {
     "ename": "SyntaxError",
     "evalue": "invalid syntax (3433388187.py, line 1)",
     "output_type": "error",
     "traceback": [
      "\u001b[1;36m  Input \u001b[1;32mIn [10]\u001b[1;36m\u001b[0m\n\u001b[1;33m    is_today_$aturday = False\u001b[0m\n\u001b[1;37m             ^\u001b[0m\n\u001b[1;31mSyntaxError\u001b[0m\u001b[1;31m:\u001b[0m invalid syntax\n"
     ]
    }
   ],
   "source": [
    "is_today_$aturday = False"
   ]
  },
  {
   "cell_type": "code",
   "execution_count": 11,
   "id": "e22e671d",
   "metadata": {},
   "outputs": [
    {
     "ename": "SyntaxError",
     "evalue": "cannot assign to expression here. Maybe you meant '==' instead of '='? (1615860382.py, line 1)",
     "output_type": "error",
     "traceback": [
      "\u001b[1;36m  Input \u001b[1;32mIn [11]\u001b[1;36m\u001b[0m\n\u001b[1;33m    my-favorite-car = \"Volvo\"\u001b[0m\n\u001b[1;37m    ^\u001b[0m\n\u001b[1;31mSyntaxError\u001b[0m\u001b[1;31m:\u001b[0m cannot assign to expression here. Maybe you meant '==' instead of '='?\n"
     ]
    }
   ],
   "source": [
    "my-favorite-car = \"Volvo\""
   ]
  },
  {
   "cell_type": "code",
   "execution_count": 12,
   "id": "d2a0e3be",
   "metadata": {},
   "outputs": [
    {
     "ename": "SyntaxError",
     "evalue": "invalid decimal literal (1028151984.py, line 1)",
     "output_type": "error",
     "traceback": [
      "\u001b[1;36m  Input \u001b[1;32mIn [12]\u001b[1;36m\u001b[0m\n\u001b[1;33m    3_musketeers = ['Athos', 'Porthos', 'Aramis']\u001b[0m\n\u001b[1;37m     ^\u001b[0m\n\u001b[1;31mSyntaxError\u001b[0m\u001b[1;31m:\u001b[0m invalid decimal literal\n"
     ]
    }
   ],
   "source": [
    "3_musketeers = ['Athos', 'Porthos', 'Aramis']"
   ]
  },
  {
   "cell_type": "markdown",
   "id": "04c04f9b",
   "metadata": {},
   "source": [
    "### Built-in data types in Python"
   ]
  },
  {
   "cell_type": "markdown",
   "id": "769691a5",
   "metadata": {},
   "source": [
    "Any data or information stored within a Python variable has a type. You can view the type of data stored within a variable using the type function."
   ]
  },
  {
   "cell_type": "code",
   "execution_count": 13,
   "id": "f1ed6e01",
   "metadata": {},
   "outputs": [
    {
     "data": {
      "text/plain": [
       "str"
      ]
     },
     "execution_count": 13,
     "metadata": {},
     "output_type": "execute_result"
    }
   ],
   "source": [
    "type(my_favorite_color)"
   ]
  },
  {
   "cell_type": "code",
   "execution_count": 15,
   "id": "404327a3",
   "metadata": {},
   "outputs": [
    {
     "data": {
      "text/plain": [
       "int"
      ]
     },
     "execution_count": 15,
     "metadata": {},
     "output_type": "execute_result"
    }
   ],
   "source": [
    "type(a_variable)"
   ]
  },
  {
   "cell_type": "markdown",
   "id": "1fa3d138",
   "metadata": {},
   "source": [
    "Python has several built-in data types for storing different kinds of information in variables. Following are some commonly used data types:\n",
    "\n",
    "* Integer\n",
    "* Float\n",
    "* Boolean\n",
    "* None\n",
    "* String\n",
    "* List\n",
    "* Tuple\n",
    "* Dictionary\n",
    "<br><br>\n",
    "Integer, float, boolean, None, and string are **primitive data types** because they represent a single value. Other data types like list, tuple, and dictionary are often called **data structures or containers** because they hold multiple pieces of data together."
   ]
  },
  {
   "cell_type": "code",
   "execution_count": 16,
   "id": "3ebb41a2",
   "metadata": {},
   "outputs": [],
   "source": [
    "current_year = 2022"
   ]
  },
  {
   "cell_type": "code",
   "execution_count": 17,
   "id": "0e18ae0c",
   "metadata": {},
   "outputs": [
    {
     "data": {
      "text/plain": [
       "int"
      ]
     },
     "execution_count": 17,
     "metadata": {},
     "output_type": "execute_result"
    }
   ],
   "source": [
    "type(current_year)"
   ]
  },
  {
   "cell_type": "code",
   "execution_count": 18,
   "id": "3b2a1d6e",
   "metadata": {},
   "outputs": [
    {
     "data": {
      "text/plain": [
       "2022.0"
      ]
     },
     "execution_count": 18,
     "metadata": {},
     "output_type": "execute_result"
    }
   ],
   "source": [
    "float(current_year)"
   ]
  },
  {
   "cell_type": "code",
   "execution_count": 19,
   "id": "1073237f",
   "metadata": {},
   "outputs": [
    {
     "data": {
      "text/plain": [
       "2022"
      ]
     },
     "execution_count": 19,
     "metadata": {},
     "output_type": "execute_result"
    }
   ],
   "source": [
    "int(current_year)"
   ]
  },
  {
   "cell_type": "markdown",
   "id": "9ca9edeb",
   "metadata": {},
   "source": [
    "You can convert floats into integers and vice versa using the float and int functions. The operation of converting one type of value into another is called casting."
   ]
  },
  {
   "cell_type": "markdown",
   "id": "4f09c365",
   "metadata": {},
   "source": [
    "Booleans represent one of 2 values: True and False. Booleans have the type bool. Any value in Python can be converted to a Boolean using the bool function."
   ]
  },
  {
   "cell_type": "markdown",
   "id": "0321b01a",
   "metadata": {},
   "source": [
    "Only the following values evaluate to False (they are often called *falsy values*):\n",
    "\n",
    "* The value False itself\n",
    "* The integer 0\n",
    "* The float 0.0\n",
    "* The empty value None\n",
    "* The empty text \"\"\n",
    "* The empty list []\n",
    "* The empty tuple ()\n",
    "* The empty dictionary {}\n",
    "* The empty set set()\n",
    "* The empty range range(0)\n",
    "<br><br>Everything else evaluates to True (a value that evaluates to True is often called a *truthy value*)."
   ]
  },
  {
   "cell_type": "code",
   "execution_count": 20,
   "id": "9ac268c6",
   "metadata": {},
   "outputs": [
    {
     "data": {
      "text/plain": [
       "False"
      ]
     },
     "execution_count": 20,
     "metadata": {},
     "output_type": "execute_result"
    }
   ],
   "source": [
    "bool(False)"
   ]
  },
  {
   "cell_type": "code",
   "execution_count": 21,
   "id": "0e91985f",
   "metadata": {},
   "outputs": [
    {
     "data": {
      "text/plain": [
       "False"
      ]
     },
     "execution_count": 21,
     "metadata": {},
     "output_type": "execute_result"
    }
   ],
   "source": [
    "bool(0)"
   ]
  },
  {
   "cell_type": "code",
   "execution_count": 22,
   "id": "11c6077e",
   "metadata": {},
   "outputs": [
    {
     "data": {
      "text/plain": [
       "int"
      ]
     },
     "execution_count": 22,
     "metadata": {},
     "output_type": "execute_result"
    }
   ],
   "source": [
    "type(0)"
   ]
  },
  {
   "cell_type": "code",
   "execution_count": 23,
   "id": "cf506e24",
   "metadata": {},
   "outputs": [
    {
     "data": {
      "text/plain": [
       "(True, True, True, True, True, True, True)"
      ]
     },
     "execution_count": 23,
     "metadata": {},
     "output_type": "execute_result"
    }
   ],
   "source": [
    "bool(True), bool(1), bool(2.0), bool(\"hello\"), bool([1,2]), bool((2,3)), bool(range(10))"
   ]
  },
  {
   "cell_type": "markdown",
   "id": "24ca4ac8",
   "metadata": {},
   "source": [
    "**None**<br>\n",
    "The None type includes a single value None, used to indicate the absence of a value. None has the type NoneType. It is often used to declare a variable whose value may be assigned later."
   ]
  },
  {
   "cell_type": "code",
   "execution_count": 24,
   "id": "daf0854d",
   "metadata": {},
   "outputs": [],
   "source": [
    "nothing = None"
   ]
  },
  {
   "cell_type": "code",
   "execution_count": 25,
   "id": "df39babc",
   "metadata": {},
   "outputs": [
    {
     "data": {
      "text/plain": [
       "NoneType"
      ]
     },
     "execution_count": 25,
     "metadata": {},
     "output_type": "execute_result"
    }
   ],
   "source": [
    "type(nothing)"
   ]
  },
  {
   "cell_type": "markdown",
   "id": "1349351e",
   "metadata": {},
   "source": [
    "A string is used to represent text (a string of characters) in Python. Strings must be surrounded using quotations (either the single quote ' or the double quote \"). Strings have the type str. To use a double quote within a string written with double quotes, *escape* the inner quotes by prefixing them with the `\\` character."
   ]
  },
  {
   "cell_type": "code",
   "execution_count": 28,
   "id": "e7fd6403",
   "metadata": {},
   "outputs": [],
   "source": [
    "text = \"ove je \\\"text\\\" a ovo je novi red \\n i tekst u novom redu i dodajem tab \\t sa novim tekstom \\n novi red i u njemu stampam \\\\n\""
   ]
  },
  {
   "cell_type": "code",
   "execution_count": 32,
   "id": "cda4513d",
   "metadata": {},
   "outputs": [],
   "source": [
    "# use \"\"\" for multiline strings \"\"\"\n",
    "text = \"\"\"ove je \\\"text\\\" a ovo je novi red \\n i tekst u novom redu i dodajem tab \\t sa novim \n",
    "tekstom \\n novi red i u njemu stampam \\\\n\"\"\""
   ]
  },
  {
   "cell_type": "code",
   "execution_count": 29,
   "id": "f57d6cb0",
   "metadata": {},
   "outputs": [
    {
     "name": "stdout",
     "output_type": "stream",
     "text": [
      "ove je \"text\" a ovo je novi red \n",
      " i tekst u novom redu i dodajem tab \t sa novim tekstom \n",
      " novi red i u njemu stampam \\n\n"
     ]
    }
   ],
   "source": [
    "print(text)"
   ]
  },
  {
   "cell_type": "code",
   "execution_count": null,
   "id": "66b40880",
   "metadata": {},
   "outputs": [],
   "source": []
  }
 ],
 "metadata": {
  "kernelspec": {
   "display_name": "Python 3 (ipykernel)",
   "language": "python",
   "name": "python3"
  },
  "language_info": {
   "codemirror_mode": {
    "name": "ipython",
    "version": 3
   },
   "file_extension": ".py",
   "mimetype": "text/x-python",
   "name": "python",
   "nbconvert_exporter": "python",
   "pygments_lexer": "ipython3",
   "version": "3.10.4"
  }
 },
 "nbformat": 4,
 "nbformat_minor": 5
}
