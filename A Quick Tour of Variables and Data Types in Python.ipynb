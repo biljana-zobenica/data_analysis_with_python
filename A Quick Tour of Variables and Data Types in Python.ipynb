{
 "cells": [
  {
   "cell_type": "markdown",
   "id": "6c61fbd7",
   "metadata": {},
   "source": [
    "### Python Data Types"
   ]
  },
  {
   "cell_type": "markdown",
   "id": "40a783c5",
   "metadata": {},
   "source": [
    "This tutorial covers the following topics:\n",
    "\n",
    "* Storing information using variables\n",
    "* Primitive data types in Python: Integer, Float, Boolean, None and String\n",
    "* Built-in data structures in Python: List, Tuple and Dictionary\n",
    "* Methods and operators supported by built-in data types"
   ]
  },
  {
   "cell_type": "markdown",
   "id": "10bd9ac4",
   "metadata": {},
   "source": [
    "### Storing information using variables"
   ]
  },
  {
   "cell_type": "code",
   "execution_count": 3,
   "id": "8dbda706",
   "metadata": {},
   "outputs": [],
   "source": [
    "my_favorite_color = \"raspberry\""
   ]
  },
  {
   "cell_type": "code",
   "execution_count": 4,
   "id": "d149e815",
   "metadata": {},
   "outputs": [
    {
     "data": {
      "text/plain": [
       "'raspberry'"
      ]
     },
     "execution_count": 4,
     "metadata": {},
     "output_type": "execute_result"
    }
   ],
   "source": [
    "my_favorite_color"
   ]
  },
  {
   "cell_type": "code",
   "execution_count": 7,
   "id": "dae6ffd3",
   "metadata": {},
   "outputs": [],
   "source": [
    "color_code = '#E30B5C'"
   ]
  },
  {
   "cell_type": "code",
   "execution_count": 8,
   "id": "0ca16232",
   "metadata": {},
   "outputs": [
    {
     "data": {
      "text/plain": [
       "'#E30B5C'"
      ]
     },
     "execution_count": 8,
     "metadata": {},
     "output_type": "execute_result"
    }
   ],
   "source": [
    "color_code"
   ]
  },
  {
   "cell_type": "markdown",
   "id": "59c67ea4",
   "metadata": {},
   "source": [
    "Variable names can be short (a, x, y, etc.) or descriptive ( my_favorite_color, profit_margin, the_3_musketeers, etc.). However, you must follow these rules while naming Python variables:\n",
    "\n",
    "A variable's name must start with a letter or the underscore character _. It cannot begin with a number.\n",
    "A variable name can only contain lowercase (small) or uppercase (capital) letters, digits, or underscores (a-z, A-Z, 0-9, and _).\n",
    "Variable names are case-sensitive, i.e., a_variable, A_Variable, and A_VARIABLE are all different variables."
   ]
  },
  {
   "cell_type": "code",
   "execution_count": null,
   "id": "d8d87774",
   "metadata": {},
   "outputs": [],
   "source": []
  }
 ],
 "metadata": {
  "kernelspec": {
   "display_name": "Python 3 (ipykernel)",
   "language": "python",
   "name": "python3"
  },
  "language_info": {
   "codemirror_mode": {
    "name": "ipython",
    "version": 3
   },
   "file_extension": ".py",
   "mimetype": "text/x-python",
   "name": "python",
   "nbconvert_exporter": "python",
   "pygments_lexer": "ipython3",
   "version": "3.10.4"
  }
 },
 "nbformat": 4,
 "nbformat_minor": 5
}
